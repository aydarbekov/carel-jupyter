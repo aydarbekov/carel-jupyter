{
 "cells": [
  {
   "cell_type": "code",
   "execution_count": 193,
   "metadata": {},
   "outputs": [],
   "source": [
    "from carel import Carel\n",
    "from carelgrid import CarelGrid\n",
    "from gamecanvas import GameCanvas\n"
   ]
  },
  {
   "cell_type": "code",
   "execution_count": 194,
   "metadata": {},
   "outputs": [],
   "source": [
    "class CarelReturn(Carel):\n",
    "    \n",
    "  \n",
    "        \n",
    "    def __init__(self,canvas,grid):\n",
    "        self.counter = 0\n",
    "        super().__init__(canvas,grid)\n",
    "    \n",
    "\n",
    "    \n",
    "    def go_home(self):\n",
    "        self.turn_north()\n",
    "        self.move_to_wall()\n",
    "        self.turn_left()\n",
    "        self.move_to_wall()\n",
    "        self.turn_around()\n",
    "    \n",
    "    def turn_north(self):\n",
    "        if self.position == 1:\n",
    "            self.turn_right()\n",
    "        elif self.position == 2:\n",
    "            self.turn_left()\n",
    "            self.turn_left()\n",
    "        elif self.position == 3:\n",
    "            self.turn_left()\n",
    "            \n",
    "    def collect_beeper(self):\n",
    "        super().collect_beeper()\n",
    "        self.counter += 1\n",
    "            \n",
    "    def drop_beeper(self):\n",
    "        if self.counter != 0:\n",
    "            self.counter -= 1\n",
    "            super().drop_beeper()\n",
    "             \n",
    "    def turn_right(self):\n",
    "        self.turn_left()\n",
    "        self.turn_left()\n",
    "        self.turn_left()\n",
    "    \n",
    "    def turn_around(self):\n",
    "        self.turn_left()\n",
    "        self.turn_left()\n",
    "    \n",
    "        \n",
    "    def move_to_wall(self):\n",
    "        while True:\n",
    "            if is_front_clear():\n",
    "                move()\n",
    "            else:\n",
    "                break\n",
    "      "
   ]
  },
  {
   "cell_type": "code",
   "execution_count": 195,
   "metadata": {},
   "outputs": [
    {
     "name": "stdout",
     "output_type": "stream",
     "text": [
      "',(0):>   3      0      0      0      0   \n",
      "   3      0      0      0      0      0   \n",
      "   0      0      0      5      0      0   \n",
      "   0      0      1      0      0      0   \n"
     ]
    }
   ],
   "source": [
    "field = [[0 for x in range(6)] for y in range(4)]\n",
    "\n",
    "field[0][1] = 3\n",
    "field[1][0] = 3\n",
    "field[2][3] = 5\n",
    "field[3][2] = 1\n",
    "\n",
    "grid = CarelGrid(field)\n",
    "canvas = GameCanvas(speed=5);\n",
    "carel = CarelReturn(canvas, grid);\n",
    "\n",
    "\n",
    "\n",
    "def move():\n",
    "    carel.move()\n",
    "def turn_left():\n",
    "    carel.turn_left()\n",
    "def drop_beeper():\n",
    "    carel.drop_beeper()\n",
    "def collect_beeper():\n",
    "    carel.collect_beeper()\n",
    "def is_beeper():\n",
    "    return carel.is_beeper()\n",
    "def is_front_clear():\n",
    "    return carel.is_front_clear()\n",
    "def fill_field():\n",
    "    carel.fill_field()\n",
    "def show():\n",
    "    carel.show()\n",
    "\n"
   ]
  },
  {
   "cell_type": "code",
   "execution_count": 196,
   "metadata": {},
   "outputs": [],
   "source": [
    "# New methods go here\n",
    "\n",
    "# Example\n",
    "\n",
    "def turn_around():\n",
    "    turn_left()\n",
    "    turn_left()\n",
    "\n",
    "def collect_or_drop_to_wall():\n",
    "    while True:\n",
    "        \n",
    "        clear_cell()\n",
    "        if not is_front_clear():\n",
    "            break\n",
    "        move()\n",
    "\n",
    "def clear_cell():\n",
    "    if is_beeper():\n",
    "        while is_beeper():\n",
    "            collect_beeper()\n",
    "    else:\n",
    "        carel.drop_beeper()\n",
    "        \n",
    "        \n",
    "def turn_right():\n",
    "    turn_left()\n",
    "    turn_left()\n",
    "    turn_left()"
   ]
  },
  {
   "cell_type": "code",
   "execution_count": 197,
   "metadata": {},
   "outputs": [
    {
     "name": "stdout",
     "output_type": "stream",
     "text": [
      "   0      0      1      1      1      0   \n",
      "   0      0      0      0      0      0   \n",
      "   1      1      1      0      1      1   \n",
      "',(0):v   1      0      1      1      1   \n"
     ]
    }
   ],
   "source": [
    "while True:\n",
    "    collect_or_drop_to_wall()\n",
    "    turn_right()\n",
    "    if not is_front_clear():\n",
    "        break\n",
    "    move()\n",
    "    turn_right()\n",
    "    collect_or_drop_to_wall()\n",
    "    turn_left()\n",
    "    if not is_front_clear():\n",
    "        break\n",
    "    move()\n",
    "    turn_left()\n",
    "\n",
    "#for i in range(carel.counter):\n",
    "   # drop_beeper()"
   ]
  }
 ],
 "metadata": {
  "kernelspec": {
   "display_name": "Python 3",
   "language": "python",
   "name": "python3"
  },
  "language_info": {
   "codemirror_mode": {
    "name": "ipython",
    "version": 3
   },
   "file_extension": ".py",
   "mimetype": "text/x-python",
   "name": "python",
   "nbconvert_exporter": "python",
   "pygments_lexer": "ipython3",
   "version": "3.7.1"
  }
 },
 "nbformat": 4,
 "nbformat_minor": 2
}
