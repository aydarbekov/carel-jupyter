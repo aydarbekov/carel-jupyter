{
 "cells": [
  {
   "cell_type": "code",
   "execution_count": 60,
   "metadata": {},
   "outputs": [
    {
     "name": "stdout",
     "output_type": "stream",
     "text": [
      "',(0):>\n",
      "   0   \n",
      "   0   \n",
      "   0   \n",
      "   8   \n"
     ]
    }
   ],
   "source": [
    "from carel import Carel\n",
    "from carelgrid import CarelGrid\n",
    "from gamecanvas import GameCanvas\n",
    "\n",
    "field = [[0 for x in range(1)] for y in range(5)]\n",
    "\n",
    "#field[0][1] = 7\n",
    "#field[0][2] = 5\n",
    "#field[1][3] = 9\n",
    "#field[1][4] = 5\n",
    "#field[2][2] = 9\n",
    "#field[2][3] = 9\n",
    "#field[3][1] = 5\n",
    "#field[3][2] = 2\n",
    "#field[4][0] = 8\n",
    "#field[4][1] = 8\n",
    "\n",
    "grid = CarelGrid(field)\n",
    "canvas = GameCanvas(speed=5);\n",
    "carel = Carel(canvas, grid);\n",
    "\n",
    "def move():\n",
    "    carel.move()\n",
    "def turn_left():\n",
    "    carel.turn_left()\n",
    "def drop_beeper():\n",
    "    carel.drop_beeper()\n",
    "def collect_beeper():\n",
    "    carel.collect_beeper()\n",
    "def is_beeper():\n",
    "    return carel.is_beeper()\n",
    "def is_front_clear():\n",
    "    return carel.is_front_clear()\n",
    "def show():\n",
    "    carel.show()"
   ]
  },
  {
   "cell_type": "code",
   "execution_count": 61,
   "metadata": {},
   "outputs": [],
   "source": [
    "# New methods go here\n",
    "\n",
    "# Example\n",
    "\n",
    "def turn_around():\n",
    "    turn_left()\n",
    "    turn_left()\n",
    "    \n",
    "def collect_all_beepers():\n",
    "    while is_beeper():\n",
    "        collect_beeper()\n",
    "\n",
    "def turn_right():\n",
    "    turn_left()\n",
    "    turn_left()\n",
    "    turn_left()  \n",
    "    \n",
    "def chess_field_zero():\n",
    "    while True:\n",
    "        collect_all_beepers()\n",
    "        if is_front_clear():\n",
    "            move()\n",
    "        else:\n",
    "            break\n",
    "        collect_all_beepers()\n",
    "        drop_beeper()\n",
    "        if is_front_clear():\n",
    "            move()\n",
    "        else:\n",
    "            break\n",
    "            \n",
    "def chess_field_one():\n",
    "    while True:\n",
    "        collect_all_beepers()\n",
    "        drop_beeper()\n",
    "        if is_front_clear():\n",
    "            move()\n",
    "        else:\n",
    "            break\n",
    "        collect_all_beepers()\n",
    "        if is_front_clear():\n",
    "            move()\n",
    "        else:\n",
    "            break\n",
    "        \n",
    "       \n",
    "        \n",
    "        \n",
    "     \n",
    "            \n",
    "             \n",
    "     \n",
    "        \n",
    "    \n"
   ]
  },
  {
   "cell_type": "code",
   "execution_count": 62,
   "metadata": {},
   "outputs": [
    {
     "name": "stdout",
     "output_type": "stream",
     "text": [
      "   0   \n",
      "   1   \n",
      "   0   \n",
      "   1   \n",
      "',(0):v\n"
     ]
    }
   ],
   "source": [
    "while True:\n",
    "    chess_field_zero()\n",
    "    turn_right()\n",
    "    if not is_beeper():\n",
    "        if not is_front_clear():\n",
    "            break\n",
    "        move()\n",
    "        turn_right()\n",
    "        chess_field_one()\n",
    "        turn_left()\n",
    "        if is_front_clear():\n",
    "            move()\n",
    "            turn_left()\n",
    "        else:\n",
    "            break\n",
    "    else:\n",
    "        if not is_front_clear():\n",
    "            break\n",
    "        move()\n",
    "        turn_right()\n",
    "        chess_field_zero()\n",
    "        turn_left()\n",
    "        if is_front_clear():\n",
    "            move()\n",
    "            turn_left()\n",
    "        else:\n",
    "            break\n",
    "   \n",
    "        \n",
    "    \n",
    "  \n"
   ]
  },
  {
   "cell_type": "code",
   "execution_count": null,
   "metadata": {},
   "outputs": [],
   "source": []
  },
  {
   "cell_type": "code",
   "execution_count": null,
   "metadata": {},
   "outputs": [],
   "source": []
  }
 ],
 "metadata": {
  "kernelspec": {
   "display_name": "Python 3",
   "language": "python",
   "name": "python3"
  },
  "language_info": {
   "codemirror_mode": {
    "name": "ipython",
    "version": 3
   },
   "file_extension": ".py",
   "mimetype": "text/x-python",
   "name": "python",
   "nbconvert_exporter": "python",
   "pygments_lexer": "ipython3",
   "version": "3.7.1"
  }
 },
 "nbformat": 4,
 "nbformat_minor": 2
}
